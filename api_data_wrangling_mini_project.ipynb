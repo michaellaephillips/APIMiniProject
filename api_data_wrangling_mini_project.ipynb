{
 "cells": [
  {
   "cell_type": "markdown",
   "metadata": {},
   "source": [
    "This exercise will require you to pull some data from the Qunadl API. Qaundl is currently the most widely used aggregator of financial market data."
   ]
  },
  {
   "cell_type": "markdown",
   "metadata": {},
   "source": [
    "As a first step, you will need to register a free account on the http://www.quandl.com website."
   ]
  },
  {
   "cell_type": "markdown",
   "metadata": {},
   "source": [
    "After you register, you will be provided with a unique API key, that you should store:"
   ]
  },
  {
   "cell_type": "code",
   "execution_count": 3,
   "metadata": {},
   "outputs": [],
   "source": [
    "# Store the API key as a string - according to PEP8, constants are always named in all upper case\n",
    "API_KEY = "
   ]
  },
  {
   "cell_type": "markdown",
   "metadata": {},
   "source": [
    "Qaundl has a large number of data sources, but, unfortunately, most of them require a Premium subscription. Still, there are also a good number of free datasets."
   ]
  },
  {
   "cell_type": "markdown",
   "metadata": {},
   "source": [
    "For this mini project, we will focus on equities data from the Frankfurt Stock Exhange (FSE), which is available for free. We'll try and analyze the stock prices of a company called Carl Zeiss Meditec, which manufactures tools for eye examinations, as well as medical lasers for laser eye surgery: https://www.zeiss.com/meditec/int/home.html. The company is listed under the stock ticker AFX_X."
   ]
  },
  {
   "cell_type": "markdown",
   "metadata": {},
   "source": [
    "You can find the detailed Quandl API instructions here: https://docs.quandl.com/docs/time-series"
   ]
  },
  {
   "cell_type": "markdown",
   "metadata": {},
   "source": [
    "While there is a dedicated Python package for connecting to the Quandl API, we would prefer that you use the *requests* package, which can be easily downloaded using *pip* or *conda*. You can find the documentation for the package here: http://docs.python-requests.org/en/master/ "
   ]
  },
  {
   "cell_type": "markdown",
   "metadata": {},
   "source": [
    "Finally, apart from the *requests* package, you are encouraged to not use any third party Python packages, such as *pandas*, and instead focus on what's available in the Python Standard Library (the *collections* module might come in handy: https://pymotw.com/3/collections/ ).\n",
    "Also, since you won't have access to DataFrames, you are encouraged to us Python's native data structures - preferably dictionaries, though some questions can also be answered using lists.\n",
    "You can read more on these data structures here: https://docs.python.org/3/tutorial/datastructures.html"
   ]
  },
  {
   "cell_type": "markdown",
   "metadata": {},
   "source": [
    "Keep in mind that the JSON responses you will be getting from the API map almost one-to-one to Python's dictionaries. Unfortunately, they can be very nested, so make sure you read up on indexing dictionaries in the documentation provided above."
   ]
  },
  {
   "cell_type": "code",
   "execution_count": 4,
   "metadata": {},
   "outputs": [],
   "source": [
    "# First, import the relevant modules\n",
    "import requests\n",
    "import json\n",
    "import pandas as pd"
   ]
  },
  {
   "cell_type": "code",
   "execution_count": 5,
   "metadata": {},
   "outputs": [],
   "source": [
    "# Now, call the Quandl API and pull out a small sample of the data (only one day) to get a glimpse\n",
    "# into the JSON structure that will be returned\n",
    "url = 'https://www.quandl.com/api/v3/datasets/FSE/AFX_X/data.json?limit=1&api_key=' + API_KEY\n",
    "r = requests.get(url)"
   ]
  },
  {
   "cell_type": "code",
   "execution_count": 6,
   "metadata": {},
   "outputs": [
    {
     "name": "stdout",
     "output_type": "stream",
     "text": [
      "{'dataset_data': {'limit': 1, 'transform': None, 'column_index': None, 'column_names': ['Date', 'Open', 'High', 'Low', 'Close', 'Change', 'Traded Volume', 'Turnover', 'Last Price of the Day', 'Daily Traded Units', 'Daily Turnover'], 'start_date': '2000-06-07', 'end_date': '2020-12-01', 'frequency': 'daily', 'data': [['2020-12-01', 112.2, 112.2, 111.5, 112.0, None, 51.0, 5703.0, None, None, None]], 'collapse': None, 'order': None}}\n"
     ]
    }
   ],
   "source": [
    "# Inspect the JSON structure of the object you created, and take note of how nested it is,\n",
    "# as well as the overall structure\n",
    "print(r.json())"
   ]
  },
  {
   "cell_type": "markdown",
   "metadata": {},
   "source": [
    "These are your tasks for this mini project:\n",
    "\n",
    "1. Collect data from the Franfurt Stock Exchange, for the ticker AFX_X, for the whole year 2017 (keep in mind that the date format is YYYY-MM-DD).\n",
    "2. Convert the returned JSON object into a Python dictionary.\n",
    "3. Calculate what the highest and lowest opening prices were for the stock in this period.\n",
    "4. What was the largest change in any one day (based on High and Low price)?\n",
    "5. What was the largest change between any two days (based on Closing Price)?\n",
    "6. What was the average daily trading volume during this year?\n",
    "7. (Optional) What was the median trading volume during this year. (Note: you may need to implement your own function for calculating the median.)"
   ]
  },
  {
   "cell_type": "code",
   "execution_count": 7,
   "metadata": {},
   "outputs": [],
   "source": [
    "url = 'https://www.quandl.com/api/v3/datasets/FSE/AFX_X/data.json?start_date=2017-01-01&end_date=2017-12-31&api_key='+API_KEY\n",
    "data2017 =  requests.get(url)\n",
    "r = data2017.json()"
   ]
  },
  {
   "cell_type": "markdown",
   "metadata": {},
   "source": [
    "I chose to work with the data as a dataframe. It seemed the easiest way to handle this dataset. I felt it was a cleanest way to gather the data and looking at how other cohorts worked with the data, was less confusing. I was concerned after trying to work with it as just straight data I would not be able to remove empty values which was was finding previously with the corresponding date. "
   ]
  },
  {
   "cell_type": "code",
   "execution_count": 8,
   "metadata": {},
   "outputs": [],
   "source": [
    "test = pd.DataFrame(r['dataset_data']['data'])"
   ]
  },
  {
   "cell_type": "code",
   "execution_count": 10,
   "metadata": {},
   "outputs": [],
   "source": [
    "test.columns = r['dataset_data']['column_names']"
   ]
  },
  {
   "cell_type": "code",
   "execution_count": 12,
   "metadata": {},
   "outputs": [
    {
     "name": "stdout",
     "output_type": "stream",
     "text": [
      "<class 'pandas.core.frame.DataFrame'>\n",
      "RangeIndex: 255 entries, 0 to 254\n",
      "Data columns (total 11 columns):\n",
      " #   Column                 Non-Null Count  Dtype  \n",
      "---  ------                 --------------  -----  \n",
      " 0   Date                   255 non-null    object \n",
      " 1   Open                   252 non-null    float64\n",
      " 2   High                   255 non-null    float64\n",
      " 3   Low                    255 non-null    float64\n",
      " 4   Close                  255 non-null    float64\n",
      " 5   Change                 1 non-null      float64\n",
      " 6   Traded Volume          255 non-null    float64\n",
      " 7   Turnover               255 non-null    float64\n",
      " 8   Last Price of the Day  0 non-null      object \n",
      " 9   Daily Traded Units     0 non-null      object \n",
      " 10  Daily Turnover         0 non-null      object \n",
      "dtypes: float64(7), object(4)\n",
      "memory usage: 22.0+ KB\n"
     ]
    }
   ],
   "source": [
    "test.info()"
   ]
  },
  {
   "cell_type": "code",
   "execution_count": 18,
   "metadata": {},
   "outputs": [
    {
     "data": {
      "text/html": [
       "<div>\n",
       "<style scoped>\n",
       "    .dataframe tbody tr th:only-of-type {\n",
       "        vertical-align: middle;\n",
       "    }\n",
       "\n",
       "    .dataframe tbody tr th {\n",
       "        vertical-align: top;\n",
       "    }\n",
       "\n",
       "    .dataframe thead th {\n",
       "        text-align: right;\n",
       "    }\n",
       "</style>\n",
       "<table border=\"1\" class=\"dataframe\">\n",
       "  <thead>\n",
       "    <tr style=\"text-align: right;\">\n",
       "      <th></th>\n",
       "      <th>Date</th>\n",
       "      <th>Open</th>\n",
       "      <th>High</th>\n",
       "      <th>Low</th>\n",
       "      <th>Close</th>\n",
       "      <th>Change</th>\n",
       "      <th>Traded Volume</th>\n",
       "      <th>Turnover</th>\n",
       "      <th>Last Price of the Day</th>\n",
       "      <th>Daily Traded Units</th>\n",
       "      <th>Daily Turnover</th>\n",
       "    </tr>\n",
       "  </thead>\n",
       "  <tbody>\n",
       "    <tr>\n",
       "      <th>0</th>\n",
       "      <td>2017-12-29</td>\n",
       "      <td>51.76</td>\n",
       "      <td>51.94</td>\n",
       "      <td>51.45</td>\n",
       "      <td>51.76</td>\n",
       "      <td>0.49</td>\n",
       "      <td>34640.0</td>\n",
       "      <td>1792304.0</td>\n",
       "      <td>None</td>\n",
       "      <td>None</td>\n",
       "      <td>None</td>\n",
       "    </tr>\n",
       "    <tr>\n",
       "      <th>1</th>\n",
       "      <td>2017-12-28</td>\n",
       "      <td>51.65</td>\n",
       "      <td>51.82</td>\n",
       "      <td>51.43</td>\n",
       "      <td>51.60</td>\n",
       "      <td>0.39</td>\n",
       "      <td>40660.0</td>\n",
       "      <td>2099024.0</td>\n",
       "      <td>None</td>\n",
       "      <td>None</td>\n",
       "      <td>None</td>\n",
       "    </tr>\n",
       "    <tr>\n",
       "      <th>2</th>\n",
       "      <td>2017-12-27</td>\n",
       "      <td>51.45</td>\n",
       "      <td>51.89</td>\n",
       "      <td>50.76</td>\n",
       "      <td>51.82</td>\n",
       "      <td>1.13</td>\n",
       "      <td>57452.0</td>\n",
       "      <td>2957018.0</td>\n",
       "      <td>None</td>\n",
       "      <td>None</td>\n",
       "      <td>None</td>\n",
       "    </tr>\n",
       "    <tr>\n",
       "      <th>3</th>\n",
       "      <td>2017-12-22</td>\n",
       "      <td>51.05</td>\n",
       "      <td>51.50</td>\n",
       "      <td>50.92</td>\n",
       "      <td>51.32</td>\n",
       "      <td>0.58</td>\n",
       "      <td>71165.0</td>\n",
       "      <td>3641949.0</td>\n",
       "      <td>None</td>\n",
       "      <td>None</td>\n",
       "      <td>None</td>\n",
       "    </tr>\n",
       "    <tr>\n",
       "      <th>4</th>\n",
       "      <td>2017-12-21</td>\n",
       "      <td>51.16</td>\n",
       "      <td>51.52</td>\n",
       "      <td>50.90</td>\n",
       "      <td>51.40</td>\n",
       "      <td>0.62</td>\n",
       "      <td>120649.0</td>\n",
       "      <td>6179433.0</td>\n",
       "      <td>None</td>\n",
       "      <td>None</td>\n",
       "      <td>None</td>\n",
       "    </tr>\n",
       "  </tbody>\n",
       "</table>\n",
       "</div>"
      ],
      "text/plain": [
       "         Date   Open   High    Low  Close  Change  Traded Volume   Turnover  \\\n",
       "0  2017-12-29  51.76  51.94  51.45  51.76    0.49        34640.0  1792304.0   \n",
       "1  2017-12-28  51.65  51.82  51.43  51.60    0.39        40660.0  2099024.0   \n",
       "2  2017-12-27  51.45  51.89  50.76  51.82    1.13        57452.0  2957018.0   \n",
       "3  2017-12-22  51.05  51.50  50.92  51.32    0.58        71165.0  3641949.0   \n",
       "4  2017-12-21  51.16  51.52  50.90  51.40    0.62       120649.0  6179433.0   \n",
       "\n",
       "  Last Price of the Day Daily Traded Units Daily Turnover  \n",
       "0                  None               None           None  \n",
       "1                  None               None           None  \n",
       "2                  None               None           None  \n",
       "3                  None               None           None  \n",
       "4                  None               None           None  "
      ]
     },
     "execution_count": 18,
     "metadata": {},
     "output_type": "execute_result"
    }
   ],
   "source": [
    "test.head()"
   ]
  },
  {
   "cell_type": "markdown",
   "metadata": {},
   "source": [
    "I will need to know the change for the day and since the Change column of the dataframe is mainly empty, I chose to fill that column with the differece for each day. Since a stock could plummet it is not sufficient to only look at the maximum change but also the minimum change in the day as a stock could plummet and thus, create a larger net negative change."
   ]
  },
  {
   "cell_type": "code",
   "execution_count": 40,
   "metadata": {},
   "outputs": [],
   "source": [
    "test['Change'] = test['High']-test['Low']"
   ]
  },
  {
   "cell_type": "code",
   "execution_count": 41,
   "metadata": {},
   "outputs": [
    {
     "name": "stdout",
     "output_type": "stream",
     "text": [
      "The highest positive change was $2.8100000000000023\n",
      "The highest negative change was $0.18999999999999773\n"
     ]
    }
   ],
   "source": [
    "print('The highest positive change was $' + str(max(test['Change'])))\n",
    "print('The highest negative change was $' + str(min(test['Change'])))"
   ]
  },
  {
   "cell_type": "markdown",
   "metadata": {},
   "source": [
    "In this sense case the highest daily change happens to be the positive of $2.81. Next is to calculate the Max and Min for the year."
   ]
  },
  {
   "cell_type": "code",
   "execution_count": 17,
   "metadata": {},
   "outputs": [
    {
     "name": "stdout",
     "output_type": "stream",
     "text": [
      "The highest opening price was $53.11\n",
      "The lowest opening price was $34.0\n"
     ]
    }
   ],
   "source": [
    "print('The highest opening price was $' + str(max(test['Open'])))\n",
    "print('The lowest opening price was $' + str(min(test['Open'])))"
   ]
  },
  {
   "cell_type": "markdown",
   "metadata": {},
   "source": [
    "To find the average daily trading volume during 2017, I did the following."
   ]
  },
  {
   "cell_type": "code",
   "execution_count": 21,
   "metadata": {},
   "outputs": [
    {
     "name": "stdout",
     "output_type": "stream",
     "text": [
      "The average volume traded for 2017 was 89124.33725490196\n"
     ]
    }
   ],
   "source": [
    "print('The average volume traded for 2017 was ' + str(test['Traded Volume'].mean()))"
   ]
  },
  {
   "cell_type": "code",
   "execution_count": 22,
   "metadata": {},
   "outputs": [
    {
     "name": "stdout",
     "output_type": "stream",
     "text": [
      "The median volume traded for 2017 was 76286.0\n"
     ]
    }
   ],
   "source": [
    "print('The median volume traded for 2017 was ' + str(test['Traded Volume'].median()))"
   ]
  },
  {
   "cell_type": "markdown",
   "metadata": {},
   "source": [
    "What was the largest change between any two days (based on Closing Price)? This I will most likely need to write a loop. "
   ]
  },
  {
   "cell_type": "code",
   "execution_count": 31,
   "metadata": {},
   "outputs": [
    {
     "name": "stdout",
     "output_type": "stream",
     "text": [
      "[51.76, 51.6, 51.82, 51.32, 51.4, 51.27, 51.66, 52.62, 52.01, 52.67, 53.09, 52.43, 52.14, 52.12, 51.47, 50.89, 51.25, 51.14, 49.86, 49.7, 48.75, 49.25, 49.2, 49.11, 49.2, 48.8, 48.39, 47.04, 46.84, 47.03, 47.05, 48.0, 48.34, 48.34, 47.21, 47.47, 46.26, 45.99, 45.97, 45.27, 46.04, 45.76, 46.41, 45.41, 45.0, 44.85, 45.0, 44.87, 45.0, 45.77, 45.96, 45.55, 45.4, 45.43, 45.29, 45.84, 45.74, 46.0, 46.05, 46.11, 44.98, 44.17, 43.56, 42.04, 42.37, 42.07, 42.06, 41.46, 41.99, 42.44, 42.27, 42.42, 42.52, 42.45, 42.73, 42.85, 42.67, 42.77, 42.55, 42.62, 42.6, 42.41, 41.9, 41.94, 41.85, 41.91, 42.14, 42.69, 42.71, 42.71, 42.26, 42.41, 42.5, 42.05, 42.28, 42.3, 41.94, 41.68, 41.81, 44.37, 44.96, 45.07, 44.97, 45.56, 45.45, 45.3, 44.97, 45.25, 45.16, 44.82, 44.61, 45.44, 45.66, 45.57, 45.0, 45.6, 45.53, 44.95, 44.95, 44.2, 44.7, 44.53, 44.62, 45.19, 44.8, 45.75, 45.44, 45.2, 45.68, 46.83, 47.21, 46.99, 47.29, 46.99, 47.37, 46.64, 46.63, 45.67, 46.33, 46.32, 46.31, 47.44, 46.27, 47.43, 47.43, 46.99, 46.52, 45.86, 46.02, 45.32, 45.3, 44.78, 44.53, 43.9, 43.84, 44.12, 43.98, 44.19, 45.31, 45.14, 44.99, 45.0, 43.28, 43.3, 42.24, 42.75, 42.5, 41.9, 42.15, 41.72, 41.72, 42.16, 41.5, 41.89, 41.81, 41.32, 41.93, 42.61, 42.0, 42.2, 42.2, 42.2, 42.2, 41.75, 41.68, 41.42, 41.05, 41.1, 40.81, 39.64, 39.98, 39.75, 40.01, 39.22, 38.85, 38.94, 38.96, 38.94, 40.98, 41.97, 41.34, 41.46, 41.25, 41.3, 41.3, 41.4, 41.4, 41.68, 41.42, 41.4, 41.18, 41.17, 41.2, 40.84, 40.39, 39.74, 39.79, 39.7, 39.45, 38.98, 39.02, 38.71, 38.72, 38.37, 38.53, 37.06, 36.25, 36.05, 35.89, 35.64, 36.1, 36.07, 35.94, 34.56, 35.15, 35.3, 34.89, 34.83, 34.22, 34.06, 34.17, 34.5, 34.9, 34.99, 35.07, 34.85, 34.9, 35.42, 34.91, 34.67, 35.04, 35.06, 35.19, 35.48, 35.8]\n"
     ]
    }
   ],
   "source": [
    "change_in_closing = []\n",
    "close = list(test['Close'])\n",
    "print(close)"
   ]
  },
  {
   "cell_type": "code",
   "execution_count": 35,
   "metadata": {},
   "outputs": [],
   "source": [
    "for x in range(len(test['Close'])-1):\n",
    "    change_in_closing.append(close[x]-close[x+1])"
   ]
  },
  {
   "cell_type": "code",
   "execution_count": 38,
   "metadata": {},
   "outputs": [
    {
     "name": "stdout",
     "output_type": "stream",
     "text": [
      "The largest positive change between two days was $1.7199999999999989\n",
      "The largest negative change between two days was $-2.559999999999995\n"
     ]
    }
   ],
   "source": [
    "print('The largest positive change between two days was $' + str(max(change_in_closing)))\n",
    "print('The largest negative change between two days was $' + str(min(change_in_closing)))"
   ]
  },
  {
   "cell_type": "markdown",
   "metadata": {},
   "source": [
    "The largest change between two days based on the closing price was -$2.56. "
   ]
  }
 ],
 "metadata": {
  "kernelspec": {
   "display_name": "Python 3",
   "language": "python",
   "name": "python3"
  },
  "language_info": {
   "codemirror_mode": {
    "name": "ipython",
    "version": 3
   },
   "file_extension": ".py",
   "mimetype": "text/x-python",
   "name": "python",
   "nbconvert_exporter": "python",
   "pygments_lexer": "ipython3",
   "version": "3.8.3"
  }
 },
 "nbformat": 4,
 "nbformat_minor": 4
}
